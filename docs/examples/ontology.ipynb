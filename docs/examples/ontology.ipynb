{
 "cells": [
  {
   "cell_type": "code",
   "execution_count": 26,
   "id": "fa531cea-9719-4b3e-81bf-3e37a610f9a1",
   "metadata": {},
   "outputs": [
    {
     "data": {
      "text/plain": [
       "'0.0.22'"
      ]
     },
     "execution_count": 26,
     "metadata": {},
     "output_type": "execute_result"
    }
   ],
   "source": [
    "import sys\n",
    "sys.path.insert(0, '../../')\n",
    "import picea\n",
    "picea.__version__"
   ]
  },
  {
   "cell_type": "code",
   "execution_count": 2,
   "id": "349d594e-6e8f-4ae5-84fd-eeaa24764380",
   "metadata": {},
   "outputs": [
    {
     "data": {
      "text/plain": [
       "'format-version: 1.2\\ndata-version: 2021-11-22\\ndate: 22:11:2021 06:31\\nsaved-by: Evan Christensen\\nauto-'"
      ]
     },
     "execution_count": 2,
     "metadata": {},
     "output_type": "execute_result"
    }
   ],
   "source": [
    "import requests\n",
    "r = requests.get('https://raw.githubusercontent.com/The-Sequence-Ontology/SO-Ontologies/master/Ontology_Files/so.obo')\n",
    "\n",
    "r.text[:100]"
   ]
  },
  {
   "cell_type": "code",
   "execution_count": 3,
   "id": "f2260575-f31f-4df9-8c0a-16d84fce1017",
   "metadata": {},
   "outputs": [],
   "source": [
    "ontology = picea.Ontology.from_obo(string=r.text)"
   ]
  },
  {
   "cell_type": "code",
   "execution_count": 17,
   "id": "a829c0f6-5bea-4aeb-aa78-290ef053d1c9",
   "metadata": {},
   "outputs": [],
   "source": [
    "ids = [el.ID for el in ontology['SO:0000866'].parents.elements]"
   ]
  },
  {
   "cell_type": "code",
   "execution_count": 21,
   "id": "76603e75-3435-4499-93ef-233328223c16",
   "metadata": {},
   "outputs": [
    {
     "data": {
      "text/plain": [
       "True"
      ]
     },
     "execution_count": 21,
     "metadata": {},
     "output_type": "execute_result"
    }
   ],
   "source": [
    "'SO:0000866' in {el.ID for so_id in ids for el in ontology[so_id].children.elements}"
   ]
  },
  {
   "cell_type": "code",
   "execution_count": 25,
   "id": "ff071de5-f175-49f5-8f86-de257470668a",
   "metadata": {},
   "outputs": [
    {
     "data": {
      "text/plain": [
       "47273"
      ]
     },
     "execution_count": 25,
     "metadata": {},
     "output_type": "execute_result"
    }
   ],
   "source": [
    "url = 'http://purl.obolibrary.org/obo/go.obo'\n",
    "url = 'http://purl.obolibrary.org/obo/go/go-basic.obo'\n",
    "r = requests.get(url)\n",
    "go = picea.Ontology.from_obo(string=r.text)\n",
    "len(go.elements)"
   ]
  }
 ],
 "metadata": {
  "kernelspec": {
   "display_name": "Python 3 (ipykernel)",
   "language": "python",
   "name": "python3"
  },
  "language_info": {
   "codemirror_mode": {
    "name": "ipython",
    "version": 3
   },
   "file_extension": ".py",
   "mimetype": "text/x-python",
   "name": "python",
   "nbconvert_exporter": "python",
   "pygments_lexer": "ipython3",
   "version": "3.9.9"
  }
 },
 "nbformat": 4,
 "nbformat_minor": 5
}
