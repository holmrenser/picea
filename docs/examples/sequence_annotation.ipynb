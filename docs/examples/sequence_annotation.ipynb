{
 "cells": [
  {
   "cell_type": "code",
   "execution_count": 1,
   "id": "47320bd7-9040-490e-ad5d-d4efc5bc608b",
   "metadata": {},
   "outputs": [
    {
     "data": {
      "text/plain": [
       "'0.0.22'"
      ]
     },
     "execution_count": 1,
     "metadata": {},
     "output_type": "execute_result"
    }
   ],
   "source": [
    "import sys\n",
    "sys.path.insert(0, '../../')\n",
    "import picea\n",
    "from picea import SequenceAnnotation\n",
    "picea.__version__"
   ]
  },
  {
   "cell_type": "code",
   "execution_count": 2,
   "id": "0fc4cd2b-3dc1-4515-8167-195b01c32f7a",
   "metadata": {},
   "outputs": [
    {
     "data": {
      "text/plain": [
       "[<SequenceInterval type=gene ID=gene00001 loc=ctg123..1000..9000..+ at 0x110d7d9d0>]"
      ]
     },
     "execution_count": 2,
     "metadata": {},
     "output_type": "execute_result"
    }
   ],
   "source": [
    "gff3 = (\n",
    "    # '##gff-version 3.1.26\\n'\n",
    "    # '##sequence-region ctg123 1 1497228\\n'\n",
    "    'ctg123\\t.\\tgene\\t1000\\t9000\\t.\\t+\\t.\\tID=gene00001;Name=EDEN\\n'\n",
    "    'ctg123\\t.\\tTF_binding_site\\t1000\\t1012\\t.\\t+\\t.\\tID=tfbs00001;Parent=gene00001\\n' # noqa\n",
    "    'ctg123\\t.\\tmRNA\\t1050\\t9000\\t.\\t+\\t.\\tID=mRNA00001;Parent=gene00001;Name=EDEN.1\\n' # noqa\n",
    "    'ctg123\\t.\\tmRNA\\t1050\\t9000\\t.\\t+\\t.\\tID=mRNA00002;Parent=gene00001;Name=EDEN.2\\n' # noqa\n",
    "    'ctg123\\t.\\tmRNA\\t1300\\t9000\\t.\\t+\\t.\\tID=mRNA00003;Parent=gene00001;Name=EDEN.3\\n' # noqa\n",
    "    'ctg123\\t.\\texon\\t1300\\t1500\\t.\\t+\\t.\\tID=exon00001;Parent=mRNA00003\\n'\n",
    "    'ctg123\\t.\\texon\\t1050\\t1500\\t.\\t+\\t.\\tID=exon00002;Parent=mRNA00001,mRNA00002\\n' # noqa\n",
    "    'ctg123\\t.\\texon\\t3000\\t3902\\t.\\t+\\t.\\tID=exon00003;Parent=mRNA00001,mRNA00003\\n' # noqa\n",
    "    'ctg123\\t.\\texon\\t5000\\t5500\\t.\\t+\\t.\\tID=exon00004;Parent=mRNA00001,mRNA00002,mRNA00003\\n' # noqa\n",
    "    'ctg123\\t.\\texon\\t7000\\t9000\\t.\\t+\\t.\\tID=exon00005;Parent=mRNA00001,mRNA00002,mRNA00003\\n' # noqa\n",
    "    'ctg123\\t.\\tCDS\\t1201\\t1500\\t.\\t+\\t0\\tID=cds00001.1;Parent=mRNA00001;Name=edenprotein.1\\n' # noqa\n",
    "    'ctg123\\t.\\tCDS\\t3000\\t3902\\t.\\t+\\t0\\tID=cds00001.2;Parent=mRNA00001;Name=edenprotein.1\\n' # noqa\n",
    "    'ctg123\\t.\\tCDS\\t5000\\t5500\\t.\\t+\\t0\\tID=cds00001.3;Parent=mRNA00001;Name=edenprotein.1\\n' # noqa\n",
    "    'ctg123\\t.\\tCDS\\t7000\\t7600\\t.\\t+\\t0\\tID=cds00001.4;Parent=mRNA00001;Name=edenprotein.1\\n' # noqa\n",
    "    'ctg123\\t.\\tCDS\\t1201\\t1500\\t.\\t+\\t0\\tID=cds00002.1;Parent=mRNA00002;Name=edenprotein.2\\n' # noqa\n",
    "    'ctg123\\t.\\tCDS\\t5000\\t5500\\t.\\t+\\t0\\tID=cds00002.2;Parent=mRNA00002;Name=edenprotein.2\\n' # noqa\n",
    "    'ctg123\\t.\\tCDS\\t7000\\t7600\\t.\\t+\\t0\\tID=cds00002.3;Parent=mRNA00002;Name=edenprotein.2\\n' # noqa\n",
    "    'ctg123\\t.\\tCDS\\t3301\\t3902\\t.\\t+\\t0\\tID=cds00003.1;Parent=mRNA00003;Name=edenprotein.3\\n' # noqa\n",
    "    'ctg123\\t.\\tCDS\\t5000\\t5500\\t.\\t+\\t1\\tID=cds00003.2;Parent=mRNA00003;Name=edenprotein.3\\n' # noqa\n",
    "    'ctg123\\t.\\tCDS\\t7000\\t7600\\t.\\t+\\t1\\tID=cds00003.3;Parent=mRNA00003;Name=edenprotein.3\\n' # noqa\n",
    "    'ctg123\\t.\\tCDS\\t3391\\t3902\\t.\\t+\\t0\\tID=cds00004.1;Parent=mRNA00003;Name=edenprotein.4\\n' # noqa\n",
    "    'ctg123\\t.\\tCDS\\t5000\\t5500\\t.\\t+\\t1\\tID=cds00004.2;Parent=mRNA00003;Name=edenprotein.4\\n' # noqa\n",
    "    'ctg123\\t.\\tCDS\\t7000\\t7600\\t.\\t+\\t1\\tID=cds00004.3;Parent=mRNA00003;Name=edenprotein.4\\n' # noqa\n",
    ")\n",
    "\n",
    "ann = SequenceAnnotation.from_gff(string=gff3)\n",
    "ann['mRNA00003'].parents.elements"
   ]
  },
  {
   "cell_type": "code",
   "execution_count": 3,
   "id": "4fccf3e3-7356-4192-94a1-96258de1cc18",
   "metadata": {},
   "outputs": [
    {
     "data": {
      "text/plain": [
       "[<SequenceInterval type=exon ID=exon00001 loc=ctg123..1300..1500..+ at 0x110d7df70>,\n",
       " <SequenceInterval type=exon ID=exon00003 loc=ctg123..3000..3902..+ at 0x110d7d580>,\n",
       " <SequenceInterval type=exon ID=exon00004 loc=ctg123..5000..5500..+ at 0x110d7dc40>,\n",
       " <SequenceInterval type=exon ID=exon00005 loc=ctg123..7000..9000..+ at 0x110d7d0d0>,\n",
       " <SequenceInterval type=CDS ID=cds00003.1 loc=ctg123..3301..3902..+ at 0x110d7d490>,\n",
       " <SequenceInterval type=CDS ID=cds00003.2 loc=ctg123..5000..5500..+ at 0x110d7d4f0>,\n",
       " <SequenceInterval type=CDS ID=cds00003.3 loc=ctg123..7000..7600..+ at 0x110d7d760>,\n",
       " <SequenceInterval type=CDS ID=cds00004.1 loc=ctg123..3391..3902..+ at 0x110d7de80>,\n",
       " <SequenceInterval type=CDS ID=cds00004.2 loc=ctg123..5000..5500..+ at 0x110d7d130>,\n",
       " <SequenceInterval type=CDS ID=cds00004.3 loc=ctg123..7000..7600..+ at 0x110d7dd60>]"
      ]
     },
     "execution_count": 3,
     "metadata": {},
     "output_type": "execute_result"
    }
   ],
   "source": [
    "ann['mRNA00003'].children.elements"
   ]
  },
  {
   "cell_type": "code",
   "execution_count": 4,
   "id": "2f66e0ba-4eff-40e9-b536-37664e5641ed",
   "metadata": {},
   "outputs": [
    {
     "data": {
      "text/plain": [
       "{'ID': ['cds00004.3'], 'Parent': ['mRNA00003'], 'name': ['edenprotein.4']}"
      ]
     },
     "execution_count": 4,
     "metadata": {},
     "output_type": "execute_result"
    }
   ],
   "source": [
    "ann['cds00004.3'].gff_attributes"
   ]
  },
  {
   "cell_type": "code",
   "execution_count": 5,
   "id": "5cb9370b-04c9-40f7-8fbd-cbb92109d36a",
   "metadata": {},
   "outputs": [
    {
     "data": {
      "text/plain": [
       "'ctg123\\t.\\tCDS\\t7000\\t7600\\t.\\t+\\t1\\tID=cds00004.3;Name=edenprotein.4;Parent=mRNA00003'"
      ]
     },
     "execution_count": 5,
     "metadata": {},
     "output_type": "execute_result"
    }
   ],
   "source": [
    "ann['cds00004.3'].to_gff_line()"
   ]
  }
 ],
 "metadata": {
  "kernelspec": {
   "display_name": "Python 3 (ipykernel)",
   "language": "python",
   "name": "python3"
  },
  "language_info": {
   "codemirror_mode": {
    "name": "ipython",
    "version": 3
   },
   "file_extension": ".py",
   "mimetype": "text/x-python",
   "name": "python",
   "nbconvert_exporter": "python",
   "pygments_lexer": "ipython3",
   "version": "3.9.9"
  }
 },
 "nbformat": 4,
 "nbformat_minor": 5
}
