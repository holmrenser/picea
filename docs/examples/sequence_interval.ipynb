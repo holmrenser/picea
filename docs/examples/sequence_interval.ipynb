{
 "cells": [
  {
   "cell_type": "code",
   "execution_count": 1,
   "id": "31085647-7c6d-4ec2-b06d-61c1f1c6ab66",
   "metadata": {},
   "outputs": [
    {
     "data": {
      "text/plain": [
       "'0.0.22'"
      ]
     },
     "execution_count": 1,
     "metadata": {},
     "output_type": "execute_result"
    }
   ],
   "source": [
    "import sys\n",
    "sys.path.insert(0, '../../')\n",
    "import picea\n",
    "from picea import SequenceInterval\n",
    "picea.__version__"
   ]
  },
  {
   "cell_type": "code",
   "execution_count": 2,
   "id": "31fd98a1-4497-41c5-9af8-0f1c9d018178",
   "metadata": {},
   "outputs": [
    {
     "data": {
      "text/plain": [
       "<SequenceInterval type=gene ID=gene00001 loc=ctg123..1000..9000..+ at 0x10d680e80>"
      ]
     },
     "execution_count": 2,
     "metadata": {},
     "output_type": "execute_result"
    }
   ],
   "source": [
    "interval = SequenceInterval.from_gff_line('ctg123\\t.\\tgene\\t1000\\t9000\\t.\\t+\\t.\\tID=gene00001;Name=EDEN')\n",
    "interval"
   ]
  },
  {
   "cell_type": "code",
   "execution_count": 3,
   "id": "337ada54-04fd-4322-9d24-396a93205578",
   "metadata": {},
   "outputs": [
    {
     "data": {
      "text/plain": [
       "'ctg123\\t.\\tgene\\t1000\\t9000\\t.\\t+\\t.\\tName=EDEN;ID=gene00001'"
      ]
     },
     "execution_count": 3,
     "metadata": {},
     "output_type": "execute_result"
    }
   ],
   "source": [
    "interval.to_gff_line()"
   ]
  },
  {
   "cell_type": "code",
   "execution_count": 5,
   "id": "4b92cb08-d4bb-40f6-8500-3263ab06b426",
   "metadata": {},
   "outputs": [],
   "source": [
    "interval['parent']"
   ]
  }
 ],
 "metadata": {
  "kernelspec": {
   "display_name": "Python 3 (ipykernel)",
   "language": "python",
   "name": "python3"
  },
  "language_info": {
   "codemirror_mode": {
    "name": "ipython",
    "version": 3
   },
   "file_extension": ".py",
   "mimetype": "text/x-python",
   "name": "python",
   "nbconvert_exporter": "python",
   "pygments_lexer": "ipython3",
   "version": "3.9.9"
  }
 },
 "nbformat": 4,
 "nbformat_minor": 5
}
